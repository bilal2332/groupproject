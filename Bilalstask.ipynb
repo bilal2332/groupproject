{
  "nbformat": 4,
  "nbformat_minor": 0,
  "metadata": {
    "colab": {
      "provenance": []
    },
    "kernelspec": {
      "name": "python3",
      "display_name": "Python 3"
    },
    "language_info": {
      "name": "python"
    }
  },
  "cells": [
    {
      "cell_type": "code",
      "source": [
        "# 4th task\n",
        "def second_largest_unique(nums):\n",
        "    unique_nums = list(set(nums))\n",
        "    if len(unique_nums) < 2:\n",
        "        return None\n",
        "    unique_nums.sort(reverse=True)\n",
        "    return unique_nums[1]\n",
        "print(second_largest_unique([4, 5, 6, 6, 7]))  # Output: 6\n"
      ],
      "metadata": {
        "colab": {
          "base_uri": "https://localhost:8080/"
        },
        "id": "6yycCGSvTUqo",
        "outputId": "89240f10-eea2-4df1-96e2-b9947a6f3fa7"
      },
      "execution_count": 17,
      "outputs": [
        {
          "output_type": "stream",
          "name": "stdout",
          "text": [
            "6\n"
          ]
        }
      ]
    },
    {
      "cell_type": "code",
      "source": [
        "# 5th task\n",
        "def count_distinct_pairs(nums, target):\n",
        "    seen = set()\n",
        "    pairs = set()\n",
        "\n",
        "    for num in nums:\n",
        "        complement = target - num\n",
        "        if complement in seen:\n",
        "            pairs.add(tuple(sorted((num, complement))))\n",
        "        seen.add(num)\n",
        "\n",
        "    return len(pairs)\n",
        "\n",
        "print(count_distinct_pairs([1, 2, 3, 4, 3, 6], 6))  # Output: 2\n"
      ],
      "metadata": {
        "colab": {
          "base_uri": "https://localhost:8080/"
        },
        "id": "Td9ZUpGQTo5n",
        "outputId": "befef65c-93c8-4006-c557-18435c89fe3a"
      },
      "execution_count": 19,
      "outputs": [
        {
          "output_type": "stream",
          "name": "stdout",
          "text": [
            "2\n"
          ]
        }
      ]
    },
    {
      "cell_type": "code",
      "source": [
        "#6th task\n",
        "def remove_duplicates(nums):\n",
        "    seen = set()\n",
        "    result = []\n",
        "    for num in nums:\n",
        "        if num not in seen:\n",
        "            seen.add(num)\n",
        "            result.append(num)\n",
        "    return result\n",
        "print(remove_duplicates([1, 2, 2, 3, 4, 5, 1]))  # Output: [1, 2, 3, 4, 5]\n"
      ],
      "metadata": {
        "colab": {
          "base_uri": "https://localhost:8080/"
        },
        "id": "EWPvgN7TT_uv",
        "outputId": "2791309d-f9c7-4507-f898-25b8e4bb29a4"
      },
      "execution_count": 20,
      "outputs": [
        {
          "output_type": "stream",
          "name": "stdout",
          "text": [
            "[1, 2, 3, 4, 5]\n"
          ]
        }
      ]
    }
  ]
}